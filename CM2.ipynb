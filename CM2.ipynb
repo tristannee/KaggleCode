{
 "cells": [
  {
   "cell_type": "code",
   "execution_count": 7,
   "metadata": {
    "collapsed": false
   },
   "outputs": [],
   "source": [
    "## IMPORT PACKAGES\n",
    "import numpy as np\n",
    "import csv\n",
    "from sklearn.tree import DecisionTreeClassifier\n",
    "from sklearn.ensemble import AdaBoostClassifier\n",
    "from sklearn.metrics import accuracy_score as ascore\n",
    "\n",
    "\n",
    "# IMPORT TRAINING DATA 2008 (MATLAB-REFINED)\n",
    "with open('trainingDataFinal.csv','r') as bv_data: \n",
    "    data_iter = csv.reader(bv_data, delimiter = ',', quotechar = '\"') \n",
    "    data = [data for data in data_iter] \n",
    "    data = data[0:len(data)]                            \n",
    "    data_array = np.asarray(data, dtype = np.float32)\n",
    "    \n",
    "#ADDITIONAL DATA PREPROCESING\n",
    "#we transform the y labels from scalar values to one-hot encodings.\n",
    "N_total = 64667;\n",
    "d = 382; #using MATLAB preprocessing\n",
    "N_train = round(N_total/2)\n",
    "\n",
    "np.random.shuffle(data_array)\n",
    "X_train = data_array[1:N_train, 0:d];\n",
    "Y_train = data_array[1:N_train, d]\n",
    "X_val = data_array[N_train+1:N_total, 0:d]\n",
    "Y_val = data_array[N_train+1:N_total, d]\n",
    "Y_train.astype(int)\n",
    "Y_val.astype(int)\n",
    "\n",
    "resultsVec = [[0,0]]*9\n",
    "\n",
    "#PARAMETERS TO TEST\n",
    "depthVec = [2,4, None]\n",
    "estimVec = [100, 300, 500]\n",
    "\n",
    "# DECISION TREE ALGORITHM\n",
    "for d  in range(0,3):\n",
    "    for e in range(0,3):\n",
    "        C2 = AdaBoostClassifier(DecisionTreeClassifier(max_depth=depthVec[d]),\n",
    "                algorithm=\"SAMME\", n_estimators=estimVec[e])\n",
    "        C2.fit(X_train, Y_train)\n",
    "        # Predict\n",
    "        YP_train = C2.predict(X_train)\n",
    "        YP_val = C2.predict(X_val)\n",
    "        resultsVec[int(3*(d) + e)][0] = ascore(Y_train, YP_train)\n",
    "        resultsVec[int(3*(d) + e)][1] = ascore(Y_val, YP_val)"
   ]
  },
  {
   "cell_type": "code",
   "execution_count": 9,
   "metadata": {
    "collapsed": false
   },
   "outputs": [
    {
     "data": {
      "text/plain": [
       "[[1.0, 0.6915749103055796],\n",
       " [1.0, 0.6915749103055796],\n",
       " [1.0, 0.6915749103055796],\n",
       " [1.0, 0.6915749103055796],\n",
       " [1.0, 0.6915749103055796],\n",
       " [1.0, 0.6915749103055796],\n",
       " [1.0, 0.6915749103055796],\n",
       " [1.0, 0.6915749103055796],\n",
       " [1.0, 0.6915749103055796]]"
      ]
     },
     "execution_count": 9,
     "metadata": {},
     "output_type": "execute_result"
    }
   ],
   "source": [
    "resultsVec"
   ]
  },
  {
   "cell_type": "code",
   "execution_count": 6,
   "metadata": {
    "collapsed": false
   },
   "outputs": [
    {
     "data": {
      "text/plain": [
       "array([ 1.,  0.,  0., ...,  0.,  1.,  1.], dtype=float32)"
      ]
     },
     "execution_count": 6,
     "metadata": {},
     "output_type": "execute_result"
    }
   ],
   "source": [
    "YP_val"
   ]
  },
  {
   "cell_type": "code",
   "execution_count": null,
   "metadata": {
    "collapsed": true
   },
   "outputs": [],
   "source": []
  }
 ],
 "metadata": {
  "anaconda-cloud": {},
  "kernelspec": {
   "display_name": "Python [default]",
   "language": "python",
   "name": "python3"
  },
  "language_info": {
   "codemirror_mode": {
    "name": "ipython",
    "version": 3
   },
   "file_extension": ".py",
   "mimetype": "text/x-python",
   "name": "python",
   "nbconvert_exporter": "python",
   "pygments_lexer": "ipython3",
   "version": "3.5.2"
  }
 },
 "nbformat": 4,
 "nbformat_minor": 1
}
